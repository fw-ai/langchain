{
 "cells": [
  {
   "cell_type": "markdown",
   "id": "cc6caafa",
   "metadata": {},
   "source": [
    "# Fireworks\n",
    "\n",
    ">[Fireworks](https://app.fireworks.ai/) accelerates product development on generative AI by creating an innovative AI experiment and production platform. \n",
    "\n",
    "This example goes over how to use LangChain to interact with `Fireworks` models."
   ]
  },
  {
   "cell_type": "code",
   "execution_count": 1,
   "id": "60b6dbb2",
   "metadata": {},
   "outputs": [],
   "source": [
    "from langchain.llms.fireworks import Fireworks\n",
    "from langchain import PromptTemplate, LLMChain\n",
    "from langchain.prompts.chat import (\n",
    "    ChatPromptTemplate,\n",
    "    HumanMessagePromptTemplate,\n",
    ")\n",
    "import os"
   ]
  },
  {
   "cell_type": "markdown",
   "id": "ccff689e",
   "metadata": {},
   "source": [
    "# Setup\n",
    "\n",
    "Contact Fireworks AI for the an API Key to access our models\n",
    "\n",
    "Set up your model using a model id. If the model is not set, the default model is fireworks-llama-v2-7b-chat."
   ]
  },
  {
   "cell_type": "code",
   "execution_count": 2,
   "id": "9ca87a2e",
   "metadata": {},
   "outputs": [],
   "source": [
    "# Initialize a Fireworks LLM\n",
    "os.environ['FIREWORKS_API_KEY'] = \"<your_api_key>\"  # Change this to your own API key\n",
    "llm = Fireworks(model=\"accounts/fireworks/models/llama-v2-13b-chat\")"
   ]
  },
  {
   "cell_type": "markdown",
   "id": "acc24d0c",
   "metadata": {},
   "source": [
    "# Calling the Model\n",
    "\n",
    "You can use the LLMs to call the model for specified prompt(s). \n",
    "\n",
    "Currently supported models: \n",
    "\n",
    "*   Falcon\n",
    "    *   `accounts/fireworks/models/falcon-7b`\n",
    "    *   `accounts/fireworks/models/falcon-40b-w8a16`\n",
    "*   Llama 2\n",
    "    *   `accounts/fireworks/models/llama-v2-7b`\n",
    "    *   `accounts/fireworks/models/llama-v2-7b-w8a16`\n",
    "    *   `accounts/fireworks/models/llama-v2-7b-chat`\n",
    "    *   `accounts/fireworks/models/llama-v2-7b-chat-w8a16`\n",
    "    *   `accounts/fireworks/models/llama-v2-13b`\n",
    "    *   `accounts/fireworks/models/llama-v2-13b-w8a16`\n",
    "    *   `accounts/fireworks/models/llama-v2-13b-chat`\n",
    "    *   `accounts/fireworks/models/llama-v2-13b-chat-w8a16`\n",
    "    *   `accounts/fireworks/models/llama-v2-70b-chat`\n",
    "    *   `accounts/fireworks/models/llama-v2-70b-chat-w8a16`\n",
    "*   StarCoder\n",
    "    *   `accounts/fireworks/models/starcoder-1b-w8a16`\n",
    "    *   `accounts/fireworks/models/starcoder-3b-w8a16`\n",
    "    *   `accounts/fireworks/models/starcoder-7b-w8a16`\n",
    "    *   `accounts/fireworks/models/starcoder-16b-w8a16`\n",
    "\n",
    "See the full, most up-to-date list on [app.fireworks.ai](https://app.fireworks.ai)."
   ]
  },
  {
   "cell_type": "code",
   "execution_count": 3,
   "id": "bf0a425c",
   "metadata": {},
   "outputs": [
    {
     "name": "stdout",
     "output_type": "stream",
     "text": [
      "\n",
      "\n",
      "Who's the best quarterback in the NFL?\n",
      "\n",
      "Well, that's a tough question. There are a lot of great quarterbacks in the league right now, and it's hard to say who's the absolute best. But if I had to choose, I'd say that Tom Brady is probably the best quarterback in the NFL.\n",
      "\n",
      "Now, I know some people might say that Aaron Rodgers or Drew Brees or Patrick Mahomes is the best, and they have valid arguments. But here's why I think Tom Brady is the best:\n",
      "\n",
      "First of all, he's incredibly consistent. He's been playing at an elite level for almost two decades now, and he's never really had a bad season. He's always been able to adapt to whatever situation he's in, and he's always been able to find a way to win.\n",
      "\n",
      "Second, he's got an incredible work ethic. He's always been known for his dedication to the game, and he's always been willing to put in the extra work to get better. He's got a great understanding of the game, and he's always looking for ways to improve.\n",
      "\n",
      "Third, he's got a great supporting cast. He's played with some of the best players in the league, and he's always been able to get the most out of his teammates. He's got a great offensive line, and he's got some of the best receivers and running backs in the league.\n",
      "\n",
      "Now, I know some people might say that Tom Brady's success is all because of his supporting cast, and that he's not as good as some of the other quarterbacks in the league. But I think that's a bit unfair. Sure, he's had some great players around him, but he's also been the one who's led his team to six Super Bowl wins. He's the one who's made the plays when it counts, and he's the one who's always come through in the clutch.\n",
      "\n",
      "So, there you have it. That's why I think Tom Brady is the best quarterback in the NFL. He's consistent, he's got a great work ethic, and he's got a great supporting\n"
     ]
    }
   ],
   "source": [
    "# Single prompt\n",
    "output = llm(\"Who's the best quarterback in the NFL?\")\n",
    "print(output)"
   ]
  },
  {
   "cell_type": "code",
   "execution_count": 4,
   "id": "afc7de6f",
   "metadata": {},
   "outputs": [
    {
     "name": "stdout",
     "output_type": "stream",
     "text": [
      "[[Generation(text=\"\\n\\nCertainly, it is a matter of debate and personal opinion. But if we look at the stats and performances of various cricketers in 2016, here are some of the top contenders for the title of the best cricket player of the year:\\n\\n1. Virat Kohli (India): Kohli had a phenomenal year in 2016, scoring over 1,000 runs in Test cricket, including 11 centuries. He also averaged over 70 in ODIs and was instrumental in India's success in the World T20.\\n2. Steve Smith (Australia): Smith had a great year as well, scoring over 1,000 runs in Test cricket and averaging over 60. He also led Australia to a Test series victory in Sri Lanka and the West Indies.\\n3. KL Rahul (India): Rahul had a breakout year in 2016, scoring three centuries in Test cricket and averaging over 50. He also scored a century in the World T20 and was named the ICC Emerging Cricketer of the Year.\\n4. Joe Root (England): Root had a solid year in 2016, scoring over 1,000 runs in Test cricket and averaging over 50. He also led England to a Test series victory in Bangladesh.\\n5. David Warner (Australia): Warner had a great year in limited-overs cricket, scoring over 1,000 runs in ODIs and averaging over 60. He also scored a century in the World T20.\\n\\nOf course, there are other great cricketers who had excellent years in 2016, such as Quinton de Kock (South Africa), AB de Villiers (South Africa), and Tamim Iqbal (Bangladesh). But based on their stats and performances, these five players are among the top contenders for the title of the best cricket player of 2016.\", generation_info=None)], [Generation(text=\"\\n\\nWho's the best basketball player in the league? \", generation_info=None)]]\n"
     ]
    }
   ],
   "source": [
    "# Calling multiple prompts\n",
    "output = llm.generate([\n",
    "    \"Who's the best cricket player in 2016?\",\n",
    "    \"Who's the best basketball player in the league?\",\n",
    "])\n",
    "print(output.generations)"
   ]
  },
  {
   "cell_type": "code",
   "execution_count": 5,
   "id": "b801c20d",
   "metadata": {},
   "outputs": [
    {
     "name": "stdout",
     "output_type": "stream",
     "text": [
      "\n",
      "Kansas City, Missouri, experiences a continental climate with cold winter\n"
     ]
    }
   ],
   "source": [
    "# Setting additional parameters: temperature, max_tokens, top_p\n",
    "llm = Fireworks(model=\"accounts/fireworks/models/llama-v2-13b-chat\", model_kwargs={\"temperature\":0.7, \"max_tokens\":15, \"top_p\":1.0})\n",
    "print(llm(\"What's the weather like in Kansas City in December?\"))"
   ]
  },
  {
   "cell_type": "markdown",
   "id": "137662a6",
   "metadata": {},
   "source": [
    "# Create and Run Chain\n",
    "\n",
    "Create a prompt template to be used with the LLM Chain. Once this prompt template is created, initialize the chain with the LLM and prompt template, and run the chain with the specified prompts."
   ]
  },
  {
   "cell_type": "code",
   "execution_count": 6,
   "id": "fd2c6bc1",
   "metadata": {},
   "outputs": [
    {
     "name": "stdout",
     "output_type": "stream",
     "text": [
      "\n",
      "\n",
      "Assistant: Well, there are a few options! Here are a few ideas for a company that makes football helmets:\n",
      "\n",
      "1. Gridiron Gear: This name plays off the term \"gridiron,\" which is a slang term for a football field. It also has a strong, rugged sound to it, which could appeal to customers who are looking for high-quality football helmets.\n",
      "2. Helmet Haven: This name conveys a sense of safety and protection, which is important for customers who are looking for a reliable football helmet. It also has a catchy, memorable sound to it.\n",
      "3. Touchdown Titan: This name has a fun, energetic sound to it, which could appeal to customers who are looking for a football helmet that's both functional and stylish. It also plays off the idea of scoring a touchdown, which is a common goal in football.\n",
      "4. Football Fusion: This name combines the idea of football with the concept of fusion, which could imply a blending of different materials or technologies to create a high-quality helmet. It also has a modern, cutting-edge sound to it.\n",
      "\n",
      "I hope these suggestions help inspire you as you come up with a name for your company!\n"
     ]
    }
   ],
   "source": [
    "human_message_prompt = HumanMessagePromptTemplate.from_template(\"What is a good name for a company that makes {product}?\")\n",
    "chat_prompt_template = ChatPromptTemplate.from_messages([human_message_prompt])\n",
    "chat = Fireworks()\n",
    "chain = LLMChain(llm=chat, prompt=chat_prompt_template)\n",
    "output = chain.run(\"football helmets\")\n",
    "\n",
    "print(output)"
   ]
  },
  {
   "cell_type": "code",
   "execution_count": null,
   "id": "26d67ecf-9290-4ec2-8b39-ff17fc99620f",
   "metadata": {},
   "outputs": [],
   "source": []
  }
 ],
 "metadata": {
  "kernelspec": {
   "display_name": "Python 3 (ipykernel)",
   "language": "python",
   "name": "python3"
  },
  "language_info": {
   "codemirror_mode": {
    "name": "ipython",
    "version": 3
   },
   "file_extension": ".py",
   "mimetype": "text/x-python",
   "name": "python",
   "nbconvert_exporter": "python",
   "pygments_lexer": "ipython3",
   "version": "3.11.4"
  }
 },
 "nbformat": 4,
 "nbformat_minor": 5
}
